{
 "cells": [
  {
   "cell_type": "markdown",
   "id": "83e7e473-c17f-4959-93ef-d0e8df4624a8",
   "metadata": {},
   "source": [
    "# H1 -Data Sciene Tools and Ecosystem\n",
    "\n"
   ]
  },
  {
   "cell_type": "markdown",
   "id": "f17b9c98-33f0-46de-ac7a-01742a71bb22",
   "metadata": {},
   "source": [
    "In this notebook, Data Science Tools and Ecosystem are summarized"
   ]
  },
  {
   "cell_type": "markdown",
   "id": "8f38a0d0-52a9-461c-9617-a7f21f3a610b",
   "metadata": {},
   "source": [
    "**Objectives:**\n",
    "* List popular languages for Data Science\n",
    "* List the tasks that a Data Scientist need to peform\n",
    "* List API libraries"
   ]
  },
  {
   "cell_type": "markdown",
   "id": "85ab8cc6-13b7-49ef-a394-a27ce804df77",
   "metadata": {},
   "source": [
    "Some of the popular languages that Data Scientists use are:\n",
    "1.Python\n",
    "2.R\n",
    "3.SQL\n",
    "4.Julia\n",
    "5.Java Script\n",
    "6.Scala"
   ]
  },
  {
   "cell_type": "code",
   "execution_count": null,
   "id": "75db21d8-ce6a-499a-ad2a-0821c09daa6f",
   "metadata": {},
   "outputs": [],
   "source": [
    "Some of the commonly used libraries used by Data Scientists include:\n",
    "1.Pandas\n",
    "2.Numpy\n",
    "3.Scikit\n",
    "4.Matplotlib\n",
    "5.ggplot2\n",
    "6.TensorFlow"
   ]
  },
  {
   "cell_type": "markdown",
   "id": "8e6b3613-31ce-4883-8de3-73f53a34bcc2",
   "metadata": {},
   "source": [
    "|Data Science Tools|\n",
    "|:-----------------|\n",
    "|IBM Watson Studio |\n",
    "|Watson Open Scale |\n",
    "|H2O.ai            |"
   ]
  },
  {
   "cell_type": "markdown",
   "id": "77f67708-52c9-4b20-a430-dc93cc500a36",
   "metadata": {},
   "source": [
    "### H3 - Below are a few examples of evaluating arithmetic expressions in Python"
   ]
  },
  {
   "cell_type": "code",
   "execution_count": 2,
   "id": "d0c790f8-f1fd-4adb-8f78-1af9df88916b",
   "metadata": {},
   "outputs": [
    {
     "data": {
      "text/plain": [
       "17"
      ]
     },
     "execution_count": 2,
     "metadata": {},
     "output_type": "execute_result"
    }
   ],
   "source": [
    "#This a simple arithmetic expression to mutiply then add integers\n",
    "(3*4)+5"
   ]
  },
  {
   "cell_type": "code",
   "execution_count": 3,
   "id": "d0fb60d2-e32f-4ddd-89c4-65db4f937ec8",
   "metadata": {},
   "outputs": [
    {
     "data": {
      "text/plain": [
       "3.3333333333333335"
      ]
     },
     "execution_count": 3,
     "metadata": {},
     "output_type": "execute_result"
    }
   ],
   "source": [
    "# This will convert 200 minutes to hours by diving by 60\n",
    "200/60"
   ]
  },
  {
   "cell_type": "markdown",
   "id": "26c4924e-ff34-4dac-b6f2-81535c79bb8f",
   "metadata": {},
   "source": [
    "## H2 - Author\n",
    "Kumbirai Chawasema"
   ]
  },
  {
   "cell_type": "code",
   "execution_count": null,
   "id": "afc8e918-1462-456c-98f6-2810ee3066c9",
   "metadata": {},
   "outputs": [],
   "source": []
  }
 ],
 "metadata": {
  "kernelspec": {
   "display_name": "Python 3 (ipykernel)",
   "language": "python",
   "name": "python3"
  },
  "language_info": {
   "codemirror_mode": {
    "name": "ipython",
    "version": 3
   },
   "file_extension": ".py",
   "mimetype": "text/x-python",
   "name": "python",
   "nbconvert_exporter": "python",
   "pygments_lexer": "ipython3",
   "version": "3.10.7"
  }
 },
 "nbformat": 4,
 "nbformat_minor": 5
}
